{
 "cells": [
  {
   "cell_type": "markdown",
   "metadata": {},
   "source": [
    "# 打开天空的方式\n",
    "\n",
    "1. 信使的种类\n",
    "2. 光的本性\n",
    "3. 黑体和连续谱\n",
    "4. 原子结构和谱线\n",
    "5. 谱线的信息\n",
    "6. 光的波段，大气窗口\n",
    "7. 中微子信使和引力波信使\n",
    "8. 多信使时代"
   ]
  },
  {
   "cell_type": "code",
   "execution_count": null,
   "metadata": {},
   "outputs": [],
   "source": []
  }
 ],
 "metadata": {
  "kernelspec": {
   "display_name": "Python 3",
   "language": "python",
   "name": "python3"
  },
  "language_info": {
   "codemirror_mode": {
    "name": "ipython",
    "version": 3
   },
   "file_extension": ".py",
   "mimetype": "text/x-python",
   "name": "python",
   "nbconvert_exporter": "python",
   "pygments_lexer": "ipython3",
   "version": "3.7.0"
  }
 },
 "nbformat": 4,
 "nbformat_minor": 2
}
