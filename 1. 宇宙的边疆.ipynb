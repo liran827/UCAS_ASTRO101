{
 "cells": [
  {
   "cell_type": "markdown",
   "metadata": {},
   "source": [
    "# 第一章 概论\n",
    "\n",
    "## 目录\n",
    "\n",
    "### 在地球上观察宇宙\n",
    "\n",
    "### 距离测量\n",
    "\n",
    "### 宇宙的层级\n",
    "\n",
    "### 基础天文学课程内容"
   ]
  },
  {
   "cell_type": "code",
   "execution_count": null,
   "metadata": {},
   "outputs": [],
   "source": []
  },
  {
   "cell_type": "markdown",
   "metadata": {},
   "source": [
    "## 天文学讲什么\n",
    "\n",
    "### 宇宙的层级\n",
    "\n",
    "地球->太阳系->比邻星->恒星世界->银河系的边界->星系世界，星系团->长城和空洞->宇宙\n",
    "\n",
    "\n",
    "\n",
    "## 天体的演化\n",
    "古希腊的天文学家：行星的运动\n",
    "\n",
    "哥白尼革命：地心说，开普勒的学说，第谷的观测，牛顿的万有引力\n",
    "\n",
    "银河的距离：赫歇尔，卡普坦，沙普利，哈勃，和哈勃定律\n",
    "\n",
    "宇宙的膨胀和加速膨胀：爱因斯坦，弗里德曼，勒梅特，阿伦桑德奇，超新星巡天\n",
    "\n",
    "## 打开天空的正确方式\n",
    "\n",
    "望远镜的发明：伽利略，牛顿，赫歇尔，海尔，Keck, VLT\n",
    "\n",
    "光谱仪的研究：\n",
    "\n",
    "中微子，引力波：\n",
    "\n",
    "\n",
    "## 宇宙万物的联系\n",
    "\n",
    "从宇宙诞生->生命诞生\n",
    "\n",
    "## 开放的问题\n",
    "\n",
    "暗物质，暗能量\n",
    "\n",
    "\n",
    "\n",
    "\n",
    "## 在地球上观察宇宙\n",
    "\n",
    "\n",
    "夕阳斜下，夜幕降临，群星显现。 抬起头，人类可以观察宇宙。 \n",
    "\n",
    "星座，行星\n"
   ]
  },
  {
   "cell_type": "code",
   "execution_count": null,
   "metadata": {},
   "outputs": [],
   "source": []
  }
 ],
 "metadata": {
  "kernelspec": {
   "display_name": "Python 2",
   "language": "python",
   "name": "python2"
  },
  "language_info": {
   "codemirror_mode": {
    "name": "ipython",
    "version": 2
   },
   "file_extension": ".py",
   "mimetype": "text/x-python",
   "name": "python",
   "nbconvert_exporter": "python",
   "pygments_lexer": "ipython2",
   "version": "2.7.10"
  }
 },
 "nbformat": 4,
 "nbformat_minor": 2
}
