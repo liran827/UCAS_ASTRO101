{
 "cells": [
  {
   "cell_type": "markdown",
   "metadata": {},
   "source": [
    "# 第一章 宇宙的边疆\n",
    "\n",
    "## 目录\n",
    "\n",
    "### 在地球上观察宇宙\n",
    "\n",
    "### 距离测量\n",
    "\n",
    "### 宇宙的层级\n",
    "\n",
    "### 基础天文学课程内容"
   ]
  },
  {
   "cell_type": "code",
   "execution_count": null,
   "metadata": {},
   "outputs": [],
   "source": []
  },
  {
   "cell_type": "markdown",
   "metadata": {},
   "source": [
    "## 在地球上观察宇宙\n",
    "\n",
    "\n",
    "夕阳斜下，夜幕降临，群星显现。 抬起头，人类可以观察宇宙。 "
   ]
  }
 ],
 "metadata": {
  "kernelspec": {
   "display_name": "Python 2",
   "language": "python",
   "name": "python2"
  },
  "language_info": {
   "codemirror_mode": {
    "name": "ipython",
    "version": 2
   },
   "file_extension": ".py",
   "mimetype": "text/x-python",
   "name": "python",
   "nbconvert_exporter": "python",
   "pygments_lexer": "ipython2",
   "version": "2.7.10"
  }
 },
 "nbformat": 4,
 "nbformat_minor": 2
}
