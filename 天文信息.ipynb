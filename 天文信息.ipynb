{
 "cells": [
  {
   "cell_type": "markdown",
   "metadata": {},
   "source": [
    "# 打开天空的方式\n",
    "\n",
    "1. 信使的种类，光的波段，大气窗口\n",
    "2. 光的本性：波动性，量子性\n",
    "3. 原子结构和谱线，分子谱线\n",
    "4. 黑体和连续谱\n",
    "5. 谱线的信息\n",
    "6. 中微子信使和引力波信使，多信使时代\n",
    "\n",
    "重要知识点：\n",
    "\n",
    "1. 黑体谱\n",
    "2. 谱线\n",
    "3. 光谱中包含的信息： 温度，速度，密度，物理机制，元素丰度。。。。\n",
    "3. 大气窗口， 不同波段的物理机制\n",
    "\n",
    "需要推导：\n",
    "\n",
    "黑体谱\n",
    "氢原子能级\n",
    "恒星谱线\n",
    "\n",
    "费米问题：\n",
    "\n",
    "太阳的能量相当于地球总能源的多少倍。"
   ]
  },
  {
   "cell_type": "markdown",
   "metadata": {},
   "source": [
    "## 信使的种类\n",
    "\n",
    "光，中微子，宇宙线，陨石，引力波\n",
    "\n",
    "## 光的本性\n",
    "\n",
    "波动性\n",
    "\n",
    "杨氏双缝干涉\n",
    "\n",
    "波的叠加原理，衍射条纹\n",
    "\n"
   ]
  }
 ],
 "metadata": {
  "kernelspec": {
   "display_name": "Python 3",
   "language": "python",
   "name": "python3"
  },
  "language_info": {
   "codemirror_mode": {
    "name": "ipython",
    "version": 3
   },
   "file_extension": ".py",
   "mimetype": "text/x-python",
   "name": "python",
   "nbconvert_exporter": "python",
   "pygments_lexer": "ipython3",
   "version": "3.7.0"
  }
 },
 "nbformat": 4,
 "nbformat_minor": 2
}
