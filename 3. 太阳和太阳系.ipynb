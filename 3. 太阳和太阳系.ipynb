{
 "cells": [
  {
   "cell_type": "markdown",
   "metadata": {},
   "source": [
    "# 太阳和太阳系\n",
    "\n",
    "## 太阳\n",
    "\n",
    "## 月地系统\n",
    "\n",
    "地球：研究别人先要了解自己。\n",
    "\n",
    "地球的内部结构:\n",
    "\n",
    "地球的表面结构：\n",
    "\n",
    "地球的大气：组成，温度，保温\n",
    "\n",
    "地球的磁层：形成，作用\n",
    "\n",
    "地球的卫星：月亮\n",
    "\n",
    "地月系统：月球轨道倾角，潮汐作用，潮汐锁定，角动量传输\n",
    "\n",
    "月球的形成：如何和太阳系演化联系\n",
    "\n",
    "月球的环形山和月海：\n",
    "\n",
    "\n",
    "## 类地行星\n",
    "\n",
    "## 巨行星世界\n",
    "\n",
    "## 太阳系边界和小天体们\n",
    "\n",
    "## 行星形成\n",
    "\n"
   ]
  },
  {
   "cell_type": "code",
   "execution_count": null,
   "metadata": {},
   "outputs": [],
   "source": []
  }
 ],
 "metadata": {
  "kernelspec": {
   "display_name": "Python 2",
   "language": "python",
   "name": "python2"
  },
  "language_info": {
   "codemirror_mode": {
    "name": "ipython",
    "version": 2
   },
   "file_extension": ".py",
   "mimetype": "text/x-python",
   "name": "python",
   "nbconvert_exporter": "python",
   "pygments_lexer": "ipython2",
   "version": "2.7.10"
  }
 },
 "nbformat": 4,
 "nbformat_minor": 2
}
